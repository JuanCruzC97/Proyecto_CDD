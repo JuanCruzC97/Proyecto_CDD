{
 "cells": [
  {
   "cell_type": "code",
   "execution_count": 4,
   "metadata": {},
   "outputs": [],
   "source": [
    "import pandas as pd\n",
    "import numpy as np\n",
    "from urllib.parse import urlparse\n",
    "import tldextract"
   ]
  },
  {
   "cell_type": "markdown",
   "metadata": {},
   "source": [
    "Usando los datasets obtenidos y generamos podemos unirlos para generar un dataset completo para la detección de phishing."
   ]
  },
  {
   "cell_type": "code",
   "execution_count": 5,
   "metadata": {
    "scrolled": true
   },
   "outputs": [
    {
     "data": {
      "text/html": [
       "<div>\n",
       "<style scoped>\n",
       "    .dataframe tbody tr th:only-of-type {\n",
       "        vertical-align: middle;\n",
       "    }\n",
       "\n",
       "    .dataframe tbody tr th {\n",
       "        vertical-align: top;\n",
       "    }\n",
       "\n",
       "    .dataframe thead th {\n",
       "        text-align: right;\n",
       "    }\n",
       "</style>\n",
       "<table border=\"1\" class=\"dataframe\">\n",
       "  <thead>\n",
       "    <tr style=\"text-align: right;\">\n",
       "      <th></th>\n",
       "      <th>url</th>\n",
       "      <th>phishing</th>\n",
       "    </tr>\n",
       "  </thead>\n",
       "  <tbody>\n",
       "    <tr>\n",
       "      <th>0</th>\n",
       "      <td>http://populaire-pro-dsp.com/PopIbet/app.html</td>\n",
       "      <td>1.0</td>\n",
       "    </tr>\n",
       "    <tr>\n",
       "      <th>1</th>\n",
       "      <td>https://talkingtree.staging-technologies.com/v...</td>\n",
       "      <td>1.0</td>\n",
       "    </tr>\n",
       "    <tr>\n",
       "      <th>2</th>\n",
       "      <td>https://yahoopdf.yolasite.com/</td>\n",
       "      <td>1.0</td>\n",
       "    </tr>\n",
       "    <tr>\n",
       "      <th>3</th>\n",
       "      <td>https://www4.sndc-crad-nem-inedx.scottfaraday1.cn</td>\n",
       "      <td>1.0</td>\n",
       "    </tr>\n",
       "    <tr>\n",
       "      <th>4</th>\n",
       "      <td>https://annzon-ihbsf-co-jp.mbhcxy.buzz/</td>\n",
       "      <td>1.0</td>\n",
       "    </tr>\n",
       "    <tr>\n",
       "      <th>...</th>\n",
       "      <td>...</td>\n",
       "      <td>...</td>\n",
       "    </tr>\n",
       "    <tr>\n",
       "      <th>11102</th>\n",
       "      <td>http://gkjx168.com/images</td>\n",
       "      <td>1.0</td>\n",
       "    </tr>\n",
       "    <tr>\n",
       "      <th>11103</th>\n",
       "      <td>http://www.habbocreditosparati.blogspot.com/</td>\n",
       "      <td>1.0</td>\n",
       "    </tr>\n",
       "    <tr>\n",
       "      <th>11104</th>\n",
       "      <td>http://creditiperhabbogratissicuro100.blogspot...</td>\n",
       "      <td>1.0</td>\n",
       "    </tr>\n",
       "    <tr>\n",
       "      <th>11105</th>\n",
       "      <td>http://mundovirtualhabbo.blogspot.com/2009_01_...</td>\n",
       "      <td>1.0</td>\n",
       "    </tr>\n",
       "    <tr>\n",
       "      <th>11106</th>\n",
       "      <td>http://aijcs.blogspot.com/2005/03/colourful-li...</td>\n",
       "      <td>1.0</td>\n",
       "    </tr>\n",
       "  </tbody>\n",
       "</table>\n",
       "<p>11107 rows × 2 columns</p>\n",
       "</div>"
      ],
      "text/plain": [
       "                                                     url  phishing\n",
       "0          http://populaire-pro-dsp.com/PopIbet/app.html       1.0\n",
       "1      https://talkingtree.staging-technologies.com/v...       1.0\n",
       "2                         https://yahoopdf.yolasite.com/       1.0\n",
       "3      https://www4.sndc-crad-nem-inedx.scottfaraday1.cn       1.0\n",
       "4                https://annzon-ihbsf-co-jp.mbhcxy.buzz/       1.0\n",
       "...                                                  ...       ...\n",
       "11102                          http://gkjx168.com/images       1.0\n",
       "11103       http://www.habbocreditosparati.blogspot.com/       1.0\n",
       "11104  http://creditiperhabbogratissicuro100.blogspot...       1.0\n",
       "11105  http://mundovirtualhabbo.blogspot.com/2009_01_...       1.0\n",
       "11106  http://aijcs.blogspot.com/2005/03/colourful-li...       1.0\n",
       "\n",
       "[11107 rows x 2 columns]"
      ]
     },
     "execution_count": 5,
     "metadata": {},
     "output_type": "execute_result"
    }
   ],
   "source": [
    "data_phish_valid = pd.read_csv('Datasets/verified_online.csv')\n",
    "data_phish_valid['phishing'] = np.ones(data_phish_valid.shape[0])\n",
    "data_phish_valid = data_phish_valid[['url','phishing']]\n",
    "data_phish_valid"
   ]
  },
  {
   "cell_type": "code",
   "execution_count": 6,
   "metadata": {},
   "outputs": [
    {
     "data": {
      "text/html": [
       "<div>\n",
       "<style scoped>\n",
       "    .dataframe tbody tr th:only-of-type {\n",
       "        vertical-align: middle;\n",
       "    }\n",
       "\n",
       "    .dataframe tbody tr th {\n",
       "        vertical-align: top;\n",
       "    }\n",
       "\n",
       "    .dataframe thead th {\n",
       "        text-align: right;\n",
       "    }\n",
       "</style>\n",
       "<table border=\"1\" class=\"dataframe\">\n",
       "  <thead>\n",
       "    <tr style=\"text-align: right;\">\n",
       "      <th></th>\n",
       "      <th>url</th>\n",
       "      <th>phishing</th>\n",
       "    </tr>\n",
       "  </thead>\n",
       "  <tbody>\n",
       "    <tr>\n",
       "      <th>60</th>\n",
       "      <td>https://modest-cohen.46-20-34-168.plesk.page/r27/</td>\n",
       "      <td>1.0</td>\n",
       "    </tr>\n",
       "    <tr>\n",
       "      <th>61</th>\n",
       "      <td>http://serviceagf.temp.swtest.ru/wp-content/la...</td>\n",
       "      <td>1.0</td>\n",
       "    </tr>\n",
       "    <tr>\n",
       "      <th>62</th>\n",
       "      <td>https://socialmediamarkettiers.com/wp-kxjk/office</td>\n",
       "      <td>1.0</td>\n",
       "    </tr>\n",
       "    <tr>\n",
       "      <th>63</th>\n",
       "      <td>https://socialmediamarkettiers.com/wp-kxjk/off...</td>\n",
       "      <td>1.0</td>\n",
       "    </tr>\n",
       "    <tr>\n",
       "      <th>64</th>\n",
       "      <td>http://newxxporn-virals83.duckdns.org/</td>\n",
       "      <td>1.0</td>\n",
       "    </tr>\n",
       "    <tr>\n",
       "      <th>65</th>\n",
       "      <td>https://dennybegle.com/netbankar/mkb.hu/mkbnet...</td>\n",
       "      <td>1.0</td>\n",
       "    </tr>\n",
       "    <tr>\n",
       "      <th>66</th>\n",
       "      <td>https://dennybegle.com/netbankar/mkb.hu/mkbnet...</td>\n",
       "      <td>1.0</td>\n",
       "    </tr>\n",
       "    <tr>\n",
       "      <th>67</th>\n",
       "      <td>https://housestoneltd.com/sal/ggg/china/?login...</td>\n",
       "      <td>1.0</td>\n",
       "    </tr>\n",
       "    <tr>\n",
       "      <th>68</th>\n",
       "      <td>https://www.logobirds.com/wp-content/plugins/n...</td>\n",
       "      <td>1.0</td>\n",
       "    </tr>\n",
       "    <tr>\n",
       "      <th>69</th>\n",
       "      <td>https://www.logobirds.com/wp-content/plugins/n...</td>\n",
       "      <td>1.0</td>\n",
       "    </tr>\n",
       "    <tr>\n",
       "      <th>70</th>\n",
       "      <td>https://www.logobirds.com/wp-content/plugins/n...</td>\n",
       "      <td>1.0</td>\n",
       "    </tr>\n",
       "    <tr>\n",
       "      <th>71</th>\n",
       "      <td>https://www.logobirds.com/wp-content/plugins/n...</td>\n",
       "      <td>1.0</td>\n",
       "    </tr>\n",
       "    <tr>\n",
       "      <th>72</th>\n",
       "      <td>https://eggbox.top/pay/error</td>\n",
       "      <td>1.0</td>\n",
       "    </tr>\n",
       "    <tr>\n",
       "      <th>73</th>\n",
       "      <td>http://www.adverisementcollectionateliergroup....</td>\n",
       "      <td>1.0</td>\n",
       "    </tr>\n",
       "    <tr>\n",
       "      <th>74</th>\n",
       "      <td>https://www.adverisementcollectionateliergroup...</td>\n",
       "      <td>1.0</td>\n",
       "    </tr>\n",
       "    <tr>\n",
       "      <th>75</th>\n",
       "      <td>https://155.94.140.23/</td>\n",
       "      <td>1.0</td>\n",
       "    </tr>\n",
       "    <tr>\n",
       "      <th>76</th>\n",
       "      <td>http://join-grup-xxxx02.duckdns.org/</td>\n",
       "      <td>1.0</td>\n",
       "    </tr>\n",
       "    <tr>\n",
       "      <th>77</th>\n",
       "      <td>http://grup-whatsap-hot.duckdns.org/</td>\n",
       "      <td>1.0</td>\n",
       "    </tr>\n",
       "    <tr>\n",
       "      <th>78</th>\n",
       "      <td>https://bernardo.pizza/frepil/</td>\n",
       "      <td>1.0</td>\n",
       "    </tr>\n",
       "    <tr>\n",
       "      <th>79</th>\n",
       "      <td>http://bupsdd.com/NEW/amazon/</td>\n",
       "      <td>1.0</td>\n",
       "    </tr>\n",
       "  </tbody>\n",
       "</table>\n",
       "</div>"
      ],
      "text/plain": [
       "                                                  url  phishing\n",
       "60  https://modest-cohen.46-20-34-168.plesk.page/r27/       1.0\n",
       "61  http://serviceagf.temp.swtest.ru/wp-content/la...       1.0\n",
       "62  https://socialmediamarkettiers.com/wp-kxjk/office       1.0\n",
       "63  https://socialmediamarkettiers.com/wp-kxjk/off...       1.0\n",
       "64             http://newxxporn-virals83.duckdns.org/       1.0\n",
       "65  https://dennybegle.com/netbankar/mkb.hu/mkbnet...       1.0\n",
       "66  https://dennybegle.com/netbankar/mkb.hu/mkbnet...       1.0\n",
       "67  https://housestoneltd.com/sal/ggg/china/?login...       1.0\n",
       "68  https://www.logobirds.com/wp-content/plugins/n...       1.0\n",
       "69  https://www.logobirds.com/wp-content/plugins/n...       1.0\n",
       "70  https://www.logobirds.com/wp-content/plugins/n...       1.0\n",
       "71  https://www.logobirds.com/wp-content/plugins/n...       1.0\n",
       "72                       https://eggbox.top/pay/error       1.0\n",
       "73  http://www.adverisementcollectionateliergroup....       1.0\n",
       "74  https://www.adverisementcollectionateliergroup...       1.0\n",
       "75                             https://155.94.140.23/       1.0\n",
       "76               http://join-grup-xxxx02.duckdns.org/       1.0\n",
       "77               http://grup-whatsap-hot.duckdns.org/       1.0\n",
       "78                     https://bernardo.pizza/frepil/       1.0\n",
       "79                      http://bupsdd.com/NEW/amazon/       1.0"
      ]
     },
     "execution_count": 6,
     "metadata": {},
     "output_type": "execute_result"
    }
   ],
   "source": [
    "data_phish_valid.iloc[60:80]"
   ]
  },
  {
   "cell_type": "code",
   "execution_count": 7,
   "metadata": {
    "scrolled": true
   },
   "outputs": [
    {
     "data": {
      "text/html": [
       "<div>\n",
       "<style scoped>\n",
       "    .dataframe tbody tr th:only-of-type {\n",
       "        vertical-align: middle;\n",
       "    }\n",
       "\n",
       "    .dataframe tbody tr th {\n",
       "        vertical-align: top;\n",
       "    }\n",
       "\n",
       "    .dataframe thead th {\n",
       "        text-align: right;\n",
       "    }\n",
       "</style>\n",
       "<table border=\"1\" class=\"dataframe\">\n",
       "  <thead>\n",
       "    <tr style=\"text-align: right;\">\n",
       "      <th></th>\n",
       "      <th>url</th>\n",
       "      <th>phishing</th>\n",
       "    </tr>\n",
       "  </thead>\n",
       "  <tbody>\n",
       "    <tr>\n",
       "      <th>0</th>\n",
       "      <td>google.com</td>\n",
       "      <td>0.0</td>\n",
       "    </tr>\n",
       "    <tr>\n",
       "      <th>1</th>\n",
       "      <td>youtube.com</td>\n",
       "      <td>0.0</td>\n",
       "    </tr>\n",
       "    <tr>\n",
       "      <th>2</th>\n",
       "      <td>facebook.com</td>\n",
       "      <td>0.0</td>\n",
       "    </tr>\n",
       "    <tr>\n",
       "      <th>3</th>\n",
       "      <td>baidu.com</td>\n",
       "      <td>0.0</td>\n",
       "    </tr>\n",
       "    <tr>\n",
       "      <th>4</th>\n",
       "      <td>wikipedia.org</td>\n",
       "      <td>0.0</td>\n",
       "    </tr>\n",
       "    <tr>\n",
       "      <th>...</th>\n",
       "      <td>...</td>\n",
       "      <td>...</td>\n",
       "    </tr>\n",
       "    <tr>\n",
       "      <th>4995</th>\n",
       "      <td>uspto.gov</td>\n",
       "      <td>0.0</td>\n",
       "    </tr>\n",
       "    <tr>\n",
       "      <th>4996</th>\n",
       "      <td>elastic.co</td>\n",
       "      <td>0.0</td>\n",
       "    </tr>\n",
       "    <tr>\n",
       "      <th>4997</th>\n",
       "      <td>vkmag.com</td>\n",
       "      <td>0.0</td>\n",
       "    </tr>\n",
       "    <tr>\n",
       "      <th>4998</th>\n",
       "      <td>mtime.com</td>\n",
       "      <td>0.0</td>\n",
       "    </tr>\n",
       "    <tr>\n",
       "      <th>4999</th>\n",
       "      <td>mercadolibre.com.pe</td>\n",
       "      <td>0.0</td>\n",
       "    </tr>\n",
       "  </tbody>\n",
       "</table>\n",
       "<p>5000 rows × 2 columns</p>\n",
       "</div>"
      ],
      "text/plain": [
       "                      url  phishing\n",
       "0              google.com       0.0\n",
       "1             youtube.com       0.0\n",
       "2            facebook.com       0.0\n",
       "3               baidu.com       0.0\n",
       "4           wikipedia.org       0.0\n",
       "...                   ...       ...\n",
       "4995            uspto.gov       0.0\n",
       "4996           elastic.co       0.0\n",
       "4997            vkmag.com       0.0\n",
       "4998            mtime.com       0.0\n",
       "4999  mercadolibre.com.pe       0.0\n",
       "\n",
       "[5000 rows x 2 columns]"
      ]
     },
     "execution_count": 7,
     "metadata": {},
     "output_type": "execute_result"
    }
   ],
   "source": [
    "data_top_urls = pd.read_csv('Datasets/Dataset_Top_urls.csv')\n",
    "data_top_urls = data_top_urls.iloc[:5000]\n",
    "data_top_urls['phishing'] = np.zeros(data_top_urls.shape[0])\n",
    "data_top_urls = data_top_urls[['URL','phishing']]\n",
    "data_top_urls.columns = ['url', 'phishing']\n",
    "data_top_urls"
   ]
  },
  {
   "cell_type": "markdown",
   "metadata": {},
   "source": [
    "Podríamos comparar dominios correctos usando estos top urls contra los dominios de los urls analizados."
   ]
  },
  {
   "cell_type": "code",
   "execution_count": 8,
   "metadata": {},
   "outputs": [
    {
     "data": {
      "text/html": [
       "<div>\n",
       "<style scoped>\n",
       "    .dataframe tbody tr th:only-of-type {\n",
       "        vertical-align: middle;\n",
       "    }\n",
       "\n",
       "    .dataframe tbody tr th {\n",
       "        vertical-align: top;\n",
       "    }\n",
       "\n",
       "    .dataframe thead th {\n",
       "        text-align: right;\n",
       "    }\n",
       "</style>\n",
       "<table border=\"1\" class=\"dataframe\">\n",
       "  <thead>\n",
       "    <tr style=\"text-align: right;\">\n",
       "      <th></th>\n",
       "      <th>url</th>\n",
       "      <th>phishing</th>\n",
       "      <th>domain</th>\n",
       "    </tr>\n",
       "  </thead>\n",
       "  <tbody>\n",
       "    <tr>\n",
       "      <th>70</th>\n",
       "      <td>paypal.com</td>\n",
       "      <td>0.0</td>\n",
       "      <td>paypal</td>\n",
       "    </tr>\n",
       "    <tr>\n",
       "      <th>71</th>\n",
       "      <td>microsoftonline.com</td>\n",
       "      <td>0.0</td>\n",
       "      <td>microsoftonline</td>\n",
       "    </tr>\n",
       "    <tr>\n",
       "      <th>72</th>\n",
       "      <td>google.com.tw</td>\n",
       "      <td>0.0</td>\n",
       "      <td>google</td>\n",
       "    </tr>\n",
       "    <tr>\n",
       "      <th>73</th>\n",
       "      <td>google.com.au</td>\n",
       "      <td>0.0</td>\n",
       "      <td>google</td>\n",
       "    </tr>\n",
       "    <tr>\n",
       "      <th>74</th>\n",
       "      <td>whatsapp.com</td>\n",
       "      <td>0.0</td>\n",
       "      <td>whatsapp</td>\n",
       "    </tr>\n",
       "    <tr>\n",
       "      <th>75</th>\n",
       "      <td>google.pl</td>\n",
       "      <td>0.0</td>\n",
       "      <td>google</td>\n",
       "    </tr>\n",
       "    <tr>\n",
       "      <th>76</th>\n",
       "      <td>xhamster.com</td>\n",
       "      <td>0.0</td>\n",
       "      <td>xhamster</td>\n",
       "    </tr>\n",
       "    <tr>\n",
       "      <th>77</th>\n",
       "      <td>detail.tmall.com</td>\n",
       "      <td>0.0</td>\n",
       "      <td>tmall</td>\n",
       "    </tr>\n",
       "    <tr>\n",
       "      <th>78</th>\n",
       "      <td>diply.com</td>\n",
       "      <td>0.0</td>\n",
       "      <td>diply</td>\n",
       "    </tr>\n",
       "    <tr>\n",
       "      <th>79</th>\n",
       "      <td>google.co.id</td>\n",
       "      <td>0.0</td>\n",
       "      <td>google</td>\n",
       "    </tr>\n",
       "    <tr>\n",
       "      <th>80</th>\n",
       "      <td>adobe.com</td>\n",
       "      <td>0.0</td>\n",
       "      <td>adobe</td>\n",
       "    </tr>\n",
       "    <tr>\n",
       "      <th>81</th>\n",
       "      <td>coccoc.com</td>\n",
       "      <td>0.0</td>\n",
       "      <td>coccoc</td>\n",
       "    </tr>\n",
       "    <tr>\n",
       "      <th>82</th>\n",
       "      <td>craigslist.org</td>\n",
       "      <td>0.0</td>\n",
       "      <td>craigslist</td>\n",
       "    </tr>\n",
       "    <tr>\n",
       "      <th>83</th>\n",
       "      <td>nicovideo.jp</td>\n",
       "      <td>0.0</td>\n",
       "      <td>nicovideo</td>\n",
       "    </tr>\n",
       "    <tr>\n",
       "      <th>84</th>\n",
       "      <td>txxx.com</td>\n",
       "      <td>0.0</td>\n",
       "      <td>txxx</td>\n",
       "    </tr>\n",
       "    <tr>\n",
       "      <th>85</th>\n",
       "      <td>dropbox.com</td>\n",
       "      <td>0.0</td>\n",
       "      <td>dropbox</td>\n",
       "    </tr>\n",
       "    <tr>\n",
       "      <th>86</th>\n",
       "      <td>amazon.de</td>\n",
       "      <td>0.0</td>\n",
       "      <td>amazon</td>\n",
       "    </tr>\n",
       "    <tr>\n",
       "      <th>87</th>\n",
       "      <td>google.com.ar</td>\n",
       "      <td>0.0</td>\n",
       "      <td>google</td>\n",
       "    </tr>\n",
       "    <tr>\n",
       "      <th>88</th>\n",
       "      <td>amazon.in</td>\n",
       "      <td>0.0</td>\n",
       "      <td>amazon</td>\n",
       "    </tr>\n",
       "    <tr>\n",
       "      <th>89</th>\n",
       "      <td>googleusercontent.com</td>\n",
       "      <td>0.0</td>\n",
       "      <td>googleusercontent</td>\n",
       "    </tr>\n",
       "  </tbody>\n",
       "</table>\n",
       "</div>"
      ],
      "text/plain": [
       "                      url  phishing             domain\n",
       "70             paypal.com       0.0             paypal\n",
       "71    microsoftonline.com       0.0    microsoftonline\n",
       "72          google.com.tw       0.0             google\n",
       "73          google.com.au       0.0             google\n",
       "74           whatsapp.com       0.0           whatsapp\n",
       "75              google.pl       0.0             google\n",
       "76           xhamster.com       0.0           xhamster\n",
       "77       detail.tmall.com       0.0              tmall\n",
       "78              diply.com       0.0              diply\n",
       "79           google.co.id       0.0             google\n",
       "80              adobe.com       0.0              adobe\n",
       "81             coccoc.com       0.0             coccoc\n",
       "82         craigslist.org       0.0         craigslist\n",
       "83           nicovideo.jp       0.0          nicovideo\n",
       "84               txxx.com       0.0               txxx\n",
       "85            dropbox.com       0.0            dropbox\n",
       "86              amazon.de       0.0             amazon\n",
       "87          google.com.ar       0.0             google\n",
       "88              amazon.in       0.0             amazon\n",
       "89  googleusercontent.com       0.0  googleusercontent"
      ]
     },
     "execution_count": 8,
     "metadata": {},
     "output_type": "execute_result"
    }
   ],
   "source": [
    "data_top_urls['domain'] = data_top_urls['url'].apply(lambda x: tldextract.extract(x).domain)\n",
    "data_top_urls.iloc[70:90]"
   ]
  },
  {
   "cell_type": "code",
   "execution_count": 9,
   "metadata": {},
   "outputs": [
    {
     "data": {
      "text/html": [
       "<div>\n",
       "<style scoped>\n",
       "    .dataframe tbody tr th:only-of-type {\n",
       "        vertical-align: middle;\n",
       "    }\n",
       "\n",
       "    .dataframe tbody tr th {\n",
       "        vertical-align: top;\n",
       "    }\n",
       "\n",
       "    .dataframe thead th {\n",
       "        text-align: right;\n",
       "    }\n",
       "</style>\n",
       "<table border=\"1\" class=\"dataframe\">\n",
       "  <thead>\n",
       "    <tr style=\"text-align: right;\">\n",
       "      <th></th>\n",
       "      <th>url</th>\n",
       "      <th>phishing</th>\n",
       "    </tr>\n",
       "  </thead>\n",
       "  <tbody>\n",
       "    <tr>\n",
       "      <th>0</th>\n",
       "      <td>https://www.paysafecard.com/fr-ch/</td>\n",
       "      <td>0.0</td>\n",
       "    </tr>\n",
       "    <tr>\n",
       "      <th>1</th>\n",
       "      <td>https://cncs.gob.do</td>\n",
       "      <td>0.0</td>\n",
       "    </tr>\n",
       "    <tr>\n",
       "      <th>2</th>\n",
       "      <td>https://eticket.migracion.gob.do/</td>\n",
       "      <td>0.0</td>\n",
       "    </tr>\n",
       "    <tr>\n",
       "      <th>3</th>\n",
       "      <td>https://www.indeed.com/legal?hl=en_US#tos</td>\n",
       "      <td>0.0</td>\n",
       "    </tr>\n",
       "    <tr>\n",
       "      <th>4</th>\n",
       "      <td>https://www.peoplemetrics.com/</td>\n",
       "      <td>0.0</td>\n",
       "    </tr>\n",
       "    <tr>\n",
       "      <th>...</th>\n",
       "      <td>...</td>\n",
       "      <td>...</td>\n",
       "    </tr>\n",
       "    <tr>\n",
       "      <th>10115</th>\n",
       "      <td>https://nam01.safelinks.protection.outlook.com...</td>\n",
       "      <td>0.0</td>\n",
       "    </tr>\n",
       "    <tr>\n",
       "      <th>10116</th>\n",
       "      <td>https://na01.safelinks.protection.outlook.com/...</td>\n",
       "      <td>0.0</td>\n",
       "    </tr>\n",
       "    <tr>\n",
       "      <th>10117</th>\n",
       "      <td>http://vodafone.myinbound.com/</td>\n",
       "      <td>0.0</td>\n",
       "    </tr>\n",
       "    <tr>\n",
       "      <th>10118</th>\n",
       "      <td>https://nam03.safelinks.protection.outlook.com...</td>\n",
       "      <td>0.0</td>\n",
       "    </tr>\n",
       "    <tr>\n",
       "      <th>10119</th>\n",
       "      <td>https://na01.safelinks.protection.outlook.com/...</td>\n",
       "      <td>0.0</td>\n",
       "    </tr>\n",
       "  </tbody>\n",
       "</table>\n",
       "<p>10120 rows × 2 columns</p>\n",
       "</div>"
      ],
      "text/plain": [
       "                                                     url  phishing\n",
       "0                     https://www.paysafecard.com/fr-ch/       0.0\n",
       "1                                    https://cncs.gob.do       0.0\n",
       "2                      https://eticket.migracion.gob.do/       0.0\n",
       "3              https://www.indeed.com/legal?hl=en_US#tos       0.0\n",
       "4                         https://www.peoplemetrics.com/       0.0\n",
       "...                                                  ...       ...\n",
       "10115  https://nam01.safelinks.protection.outlook.com...       0.0\n",
       "10116  https://na01.safelinks.protection.outlook.com/...       0.0\n",
       "10117                     http://vodafone.myinbound.com/       0.0\n",
       "10118  https://nam03.safelinks.protection.outlook.com...       0.0\n",
       "10119  https://na01.safelinks.protection.outlook.com/...       0.0\n",
       "\n",
       "[10120 rows x 2 columns]"
      ]
     },
     "execution_count": 9,
     "metadata": {},
     "output_type": "execute_result"
    }
   ],
   "source": [
    "data_phish_sus = pd.read_csv('Datasets/Dataset_Phishing_Total.csv')\n",
    "data_phish_sus['phishing'] = np.zeros(data_phish_sus.shape[0])\n",
    "data_phish_sus = data_phish_sus[['URL','phishing']]\n",
    "data_phish_sus.columns = ['url', 'phishing']\n",
    "data_phish_sus"
   ]
  },
  {
   "cell_type": "markdown",
   "metadata": {},
   "source": [
    "Generamos el dataset completo y mezclamos las observaciones."
   ]
  },
  {
   "cell_type": "code",
   "execution_count": 10,
   "metadata": {},
   "outputs": [
    {
     "data": {
      "text/html": [
       "<div>\n",
       "<style scoped>\n",
       "    .dataframe tbody tr th:only-of-type {\n",
       "        vertical-align: middle;\n",
       "    }\n",
       "\n",
       "    .dataframe tbody tr th {\n",
       "        vertical-align: top;\n",
       "    }\n",
       "\n",
       "    .dataframe thead th {\n",
       "        text-align: right;\n",
       "    }\n",
       "</style>\n",
       "<table border=\"1\" class=\"dataframe\">\n",
       "  <thead>\n",
       "    <tr style=\"text-align: right;\">\n",
       "      <th></th>\n",
       "      <th>url</th>\n",
       "      <th>phishing</th>\n",
       "    </tr>\n",
       "  </thead>\n",
       "  <tbody>\n",
       "    <tr>\n",
       "      <th>0</th>\n",
       "      <td>https://www.powr.io/form-builder/i/27476566#page</td>\n",
       "      <td>1.0</td>\n",
       "    </tr>\n",
       "    <tr>\n",
       "      <th>1</th>\n",
       "      <td>http://mjaymu1hetezmtj0aa.filesusr.com/html/c6...</td>\n",
       "      <td>1.0</td>\n",
       "    </tr>\n",
       "    <tr>\n",
       "      <th>2</th>\n",
       "      <td>https://www.google.com/webhp?sxsrf=ACYBGNSlZQV...</td>\n",
       "      <td>0.0</td>\n",
       "    </tr>\n",
       "    <tr>\n",
       "      <th>3</th>\n",
       "      <td>https://sites.google.com/view/xcccjcdhasks/btc...</td>\n",
       "      <td>1.0</td>\n",
       "    </tr>\n",
       "    <tr>\n",
       "      <th>4</th>\n",
       "      <td>http://clouddoc-authorize.firebaseapp.com/...x...</td>\n",
       "      <td>1.0</td>\n",
       "    </tr>\n",
       "    <tr>\n",
       "      <th>5</th>\n",
       "      <td>https://rule.alibaba.com/rule/detail/2041.htm?...</td>\n",
       "      <td>0.0</td>\n",
       "    </tr>\n",
       "    <tr>\n",
       "      <th>6</th>\n",
       "      <td>http://157.245.101.68/wp-admin/cs/office2020/o...</td>\n",
       "      <td>1.0</td>\n",
       "    </tr>\n",
       "    <tr>\n",
       "      <th>7</th>\n",
       "      <td>https://siemik.github.io/lp_axa_34/</td>\n",
       "      <td>1.0</td>\n",
       "    </tr>\n",
       "    <tr>\n",
       "      <th>8</th>\n",
       "      <td>http://bit.do/fRb8y</td>\n",
       "      <td>1.0</td>\n",
       "    </tr>\n",
       "    <tr>\n",
       "      <th>9</th>\n",
       "      <td>https://itau.negocie-aqui.com/c/JWgn36iqE</td>\n",
       "      <td>0.0</td>\n",
       "    </tr>\n",
       "  </tbody>\n",
       "</table>\n",
       "</div>"
      ],
      "text/plain": [
       "                                                 url  phishing\n",
       "0   https://www.powr.io/form-builder/i/27476566#page       1.0\n",
       "1  http://mjaymu1hetezmtj0aa.filesusr.com/html/c6...       1.0\n",
       "2  https://www.google.com/webhp?sxsrf=ACYBGNSlZQV...       0.0\n",
       "3  https://sites.google.com/view/xcccjcdhasks/btc...       1.0\n",
       "4  http://clouddoc-authorize.firebaseapp.com/...x...       1.0\n",
       "5  https://rule.alibaba.com/rule/detail/2041.htm?...       0.0\n",
       "6  http://157.245.101.68/wp-admin/cs/office2020/o...       1.0\n",
       "7                https://siemik.github.io/lp_axa_34/       1.0\n",
       "8                                http://bit.do/fRb8y       1.0\n",
       "9          https://itau.negocie-aqui.com/c/JWgn36iqE       0.0"
      ]
     },
     "execution_count": 10,
     "metadata": {},
     "output_type": "execute_result"
    }
   ],
   "source": [
    "# Pruebo sin incluir top_urls\n",
    "data = pd.concat([data_phish_sus, data_phish_valid])\n",
    "data = data.sample(frac=1, random_state = 42).reset_index(drop=True)\n",
    "#data.to_csv('Dataset_URL.csv')\n",
    "data.head(10)"
   ]
  },
  {
   "cell_type": "code",
   "execution_count": 11,
   "metadata": {},
   "outputs": [
    {
     "data": {
      "text/plain": [
       "1.0    11107\n",
       "0.0    10120\n",
       "Name: phishing, dtype: int64"
      ]
     },
     "execution_count": 11,
     "metadata": {},
     "output_type": "execute_result"
    }
   ],
   "source": [
    "data['phishing'].value_counts()"
   ]
  },
  {
   "cell_type": "markdown",
   "metadata": {},
   "source": [
    "## Variable Scheme\n",
    "\n",
    "Los 5000 urls obtenidos de alexa no tienen esta porción. Estos links podrían introducir sesgos en el análisis. Podemos analizar estos links que tienen 'spam' como scheme, pero en principio son observaciones que no se incluirían."
   ]
  },
  {
   "cell_type": "code",
   "execution_count": 12,
   "metadata": {},
   "outputs": [],
   "source": [
    "data['scheme'] = data['url'].apply(lambda x: urlparse(x).scheme)"
   ]
  },
  {
   "cell_type": "code",
   "execution_count": 13,
   "metadata": {},
   "outputs": [
    {
     "data": {
      "text/plain": [
       "https    13051\n",
       "http      8162\n",
       "spams        8\n",
       "spam         6\n",
       "Name: scheme, dtype: int64"
      ]
     },
     "execution_count": 13,
     "metadata": {},
     "output_type": "execute_result"
    }
   ],
   "source": [
    "data['scheme'].value_counts()"
   ]
  },
  {
   "cell_type": "code",
   "execution_count": 14,
   "metadata": {},
   "outputs": [
    {
     "data": {
      "text/html": [
       "<div>\n",
       "<style scoped>\n",
       "    .dataframe tbody tr th:only-of-type {\n",
       "        vertical-align: middle;\n",
       "    }\n",
       "\n",
       "    .dataframe tbody tr th {\n",
       "        vertical-align: top;\n",
       "    }\n",
       "\n",
       "    .dataframe thead th {\n",
       "        text-align: right;\n",
       "    }\n",
       "</style>\n",
       "<table border=\"1\" class=\"dataframe\">\n",
       "  <thead>\n",
       "    <tr style=\"text-align: right;\">\n",
       "      <th>scheme</th>\n",
       "      <th>http</th>\n",
       "      <th>https</th>\n",
       "      <th>spam</th>\n",
       "      <th>spams</th>\n",
       "    </tr>\n",
       "    <tr>\n",
       "      <th>phishing</th>\n",
       "      <th></th>\n",
       "      <th></th>\n",
       "      <th></th>\n",
       "      <th></th>\n",
       "    </tr>\n",
       "  </thead>\n",
       "  <tbody>\n",
       "    <tr>\n",
       "      <th>0.0</th>\n",
       "      <td>3271</td>\n",
       "      <td>6835</td>\n",
       "      <td>6</td>\n",
       "      <td>8</td>\n",
       "    </tr>\n",
       "    <tr>\n",
       "      <th>1.0</th>\n",
       "      <td>4891</td>\n",
       "      <td>6216</td>\n",
       "      <td>0</td>\n",
       "      <td>0</td>\n",
       "    </tr>\n",
       "  </tbody>\n",
       "</table>\n",
       "</div>"
      ],
      "text/plain": [
       "scheme    http  https  spam  spams\n",
       "phishing                          \n",
       "0.0       3271   6835     6      8\n",
       "1.0       4891   6216     0      0"
      ]
     },
     "execution_count": 14,
     "metadata": {},
     "output_type": "execute_result"
    }
   ],
   "source": [
    "pd.crosstab(index = data['phishing'], columns = data['scheme'])"
   ]
  },
  {
   "cell_type": "markdown",
   "metadata": {},
   "source": [
    "## Variable Domain"
   ]
  },
  {
   "cell_type": "markdown",
   "metadata": {},
   "source": [
    "Extraemos el dominio completo de los urls analizados."
   ]
  },
  {
   "cell_type": "code",
   "execution_count": 15,
   "metadata": {},
   "outputs": [],
   "source": [
    "data['domain_complete'] = data['url'].apply(lambda x: urlparse(x).netloc)"
   ]
  },
  {
   "cell_type": "markdown",
   "metadata": {},
   "source": [
    "Hay dos urls que no parecerían tener dominio."
   ]
  },
  {
   "cell_type": "code",
   "execution_count": 16,
   "metadata": {},
   "outputs": [
    {
     "data": {
      "text/plain": [
       "2"
      ]
     },
     "execution_count": 16,
     "metadata": {},
     "output_type": "execute_result"
    }
   ],
   "source": [
    "(data['domain_complete'] == '').sum()"
   ]
  },
  {
   "cell_type": "code",
   "execution_count": 17,
   "metadata": {},
   "outputs": [
    {
     "data": {
      "text/html": [
       "<div>\n",
       "<style scoped>\n",
       "    .dataframe tbody tr th:only-of-type {\n",
       "        vertical-align: middle;\n",
       "    }\n",
       "\n",
       "    .dataframe tbody tr th {\n",
       "        vertical-align: top;\n",
       "    }\n",
       "\n",
       "    .dataframe thead th {\n",
       "        text-align: right;\n",
       "    }\n",
       "</style>\n",
       "<table border=\"1\" class=\"dataframe\">\n",
       "  <thead>\n",
       "    <tr style=\"text-align: right;\">\n",
       "      <th></th>\n",
       "      <th>url</th>\n",
       "      <th>phishing</th>\n",
       "      <th>scheme</th>\n",
       "      <th>domain_complete</th>\n",
       "    </tr>\n",
       "  </thead>\n",
       "  <tbody>\n",
       "    <tr>\n",
       "      <th>0</th>\n",
       "      <td>https://www.powr.io/form-builder/i/27476566#page</td>\n",
       "      <td>1.0</td>\n",
       "      <td>https</td>\n",
       "      <td>www.powr.io</td>\n",
       "    </tr>\n",
       "    <tr>\n",
       "      <th>1</th>\n",
       "      <td>http://mjaymu1hetezmtj0aa.filesusr.com/html/c6...</td>\n",
       "      <td>1.0</td>\n",
       "      <td>http</td>\n",
       "      <td>mjaymu1hetezmtj0aa.filesusr.com</td>\n",
       "    </tr>\n",
       "    <tr>\n",
       "      <th>2</th>\n",
       "      <td>https://www.google.com/webhp?sxsrf=ACYBGNSlZQV...</td>\n",
       "      <td>0.0</td>\n",
       "      <td>https</td>\n",
       "      <td>www.google.com</td>\n",
       "    </tr>\n",
       "    <tr>\n",
       "      <th>3</th>\n",
       "      <td>https://sites.google.com/view/xcccjcdhasks/btc...</td>\n",
       "      <td>1.0</td>\n",
       "      <td>https</td>\n",
       "      <td>sites.google.com</td>\n",
       "    </tr>\n",
       "    <tr>\n",
       "      <th>4</th>\n",
       "      <td>http://clouddoc-authorize.firebaseapp.com/...x...</td>\n",
       "      <td>1.0</td>\n",
       "      <td>http</td>\n",
       "      <td>clouddoc-authorize.firebaseapp.com</td>\n",
       "    </tr>\n",
       "  </tbody>\n",
       "</table>\n",
       "</div>"
      ],
      "text/plain": [
       "                                                 url  phishing scheme  \\\n",
       "0   https://www.powr.io/form-builder/i/27476566#page       1.0  https   \n",
       "1  http://mjaymu1hetezmtj0aa.filesusr.com/html/c6...       1.0   http   \n",
       "2  https://www.google.com/webhp?sxsrf=ACYBGNSlZQV...       0.0  https   \n",
       "3  https://sites.google.com/view/xcccjcdhasks/btc...       1.0  https   \n",
       "4  http://clouddoc-authorize.firebaseapp.com/...x...       1.0   http   \n",
       "\n",
       "                      domain_complete  \n",
       "0                         www.powr.io  \n",
       "1     mjaymu1hetezmtj0aa.filesusr.com  \n",
       "2                      www.google.com  \n",
       "3                    sites.google.com  \n",
       "4  clouddoc-authorize.firebaseapp.com  "
      ]
     },
     "execution_count": 17,
     "metadata": {},
     "output_type": "execute_result"
    }
   ],
   "source": [
    "data.head()"
   ]
  },
  {
   "cell_type": "code",
   "execution_count": 18,
   "metadata": {},
   "outputs": [
    {
     "data": {
      "text/plain": [
       "0                               www.powr.io\n",
       "1           mjaymu1hetezmtj0aa.filesusr.com\n",
       "2                            www.google.com\n",
       "3                          sites.google.com\n",
       "4        clouddoc-authorize.firebaseapp.com\n",
       "                        ...                \n",
       "21222          grubbokepnew2021.duckdns.org\n",
       "21223     xserver-ne-jp.omegapediatrics.com\n",
       "21224                       games-box.do.am\n",
       "21225                   underthedoormat.com\n",
       "21226         www.beloanvi333.byethost7.com\n",
       "Name: domain_complete, Length: 21227, dtype: object"
      ]
     },
     "execution_count": 18,
     "metadata": {},
     "output_type": "execute_result"
    }
   ],
   "source": [
    "data['domain_complete']"
   ]
  },
  {
   "cell_type": "markdown",
   "metadata": {},
   "source": [
    "Del dominio completo se puede extraer el sufijo, el dominio y el subdominio. \n",
    "\n",
    "* Con el sufijo se puede armar una variable categórica. \n",
    "* Revisar el dominio y subdominio (se podrían analizar juntos o separados)."
   ]
  },
  {
   "cell_type": "code",
   "execution_count": 19,
   "metadata": {},
   "outputs": [],
   "source": [
    "data['domain'] = data['domain_complete'].apply(lambda x: tldextract.extract(x).domain)\n",
    "data['subdomain'] = data['domain_complete'].apply(lambda x: tldextract.extract(x).subdomain)\n",
    "data['suffix'] = data['domain_complete'].apply(lambda x: tldextract.extract(x).suffix)"
   ]
  },
  {
   "cell_type": "markdown",
   "metadata": {},
   "source": [
    "Podemos eliminar los prefijos \"www.\" de el subdomain y crear una variable de domain + subdomain. Esto se puede realizar porque \"entiendo\" que todos los urls se pueden escribir con o sin 'www' por lo que incluirlos en el análisis puede afectar innecesariamente."
   ]
  },
  {
   "cell_type": "code",
   "execution_count": 20,
   "metadata": {},
   "outputs": [
    {
     "name": "stderr",
     "output_type": "stream",
     "text": [
      "C:\\Users\\kiri\\AppData\\Local\\Temp/ipykernel_15116/7581208.py:1: FutureWarning: The default value of regex will change from True to False in a future version.\n",
      "  data['subdomain'] = data['subdomain'].str.replace('www.', '')\n"
     ]
    }
   ],
   "source": [
    "data['subdomain'] = data['subdomain'].str.replace('www.', '')\n",
    "data['subdomain'] = data['subdomain'].str.replace('www', '')"
   ]
  },
  {
   "cell_type": "code",
   "execution_count": 21,
   "metadata": {
    "scrolled": true
   },
   "outputs": [],
   "source": [
    "data['subdomain'] = data['subdomain'] + '.'\n",
    "data['subdomain'] = data['subdomain'].replace('.', '')"
   ]
  },
  {
   "cell_type": "code",
   "execution_count": 22,
   "metadata": {},
   "outputs": [],
   "source": [
    "data['domain_subdomain'] = data['subdomain'] + data['domain']"
   ]
  },
  {
   "cell_type": "markdown",
   "metadata": {},
   "source": [
    "Para el sufijo se pueden generar variables categóricas incluyendo a todas las clases poco frecuentes en una categoría \"Otros\"."
   ]
  },
  {
   "cell_type": "code",
   "execution_count": 23,
   "metadata": {},
   "outputs": [
    {
     "data": {
      "text/plain": [
       "com           11238\n",
       "net            1073\n",
       "ru              784\n",
       "org             770\n",
       "com.br          323\n",
       "              ...  \n",
       "ps                1\n",
       "info.hu           1\n",
       "ink               1\n",
       "na                1\n",
       "industries        1\n",
       "Name: suffix, Length: 386, dtype: int64"
      ]
     },
     "execution_count": 23,
     "metadata": {},
     "output_type": "execute_result"
    }
   ],
   "source": [
    "data['suffix'].value_counts()"
   ]
  },
  {
   "cell_type": "markdown",
   "metadata": {},
   "source": [
    "## Variable Path"
   ]
  },
  {
   "cell_type": "code",
   "execution_count": 24,
   "metadata": {},
   "outputs": [],
   "source": [
    "data['path'] = data['url'].apply(lambda x: urlparse(x).path)"
   ]
  },
  {
   "cell_type": "code",
   "execution_count": 25,
   "metadata": {},
   "outputs": [
    {
     "name": "stdout",
     "output_type": "stream",
     "text": [
      "899\n",
      "5188\n"
     ]
    }
   ],
   "source": [
    "print((data['path'] == '').sum())\n",
    "print((data['path'] == '/').sum())"
   ]
  },
  {
   "cell_type": "code",
   "execution_count": 26,
   "metadata": {},
   "outputs": [
    {
     "data": {
      "text/plain": [
       "0     16006\n",
       "1      2438\n",
       "2       731\n",
       "3       530\n",
       "4       510\n",
       "6       257\n",
       "5       256\n",
       "7       145\n",
       "8        72\n",
       "10       61\n",
       "9        60\n",
       "11       48\n",
       "12       42\n",
       "13       19\n",
       "20       13\n",
       "14       12\n",
       "17        6\n",
       "15        5\n",
       "25        5\n",
       "18        4\n",
       "16        2\n",
       "19        2\n",
       "24        1\n",
       "21        1\n",
       "23        1\n",
       "Name: url, dtype: int64"
      ]
     },
     "execution_count": 26,
     "metadata": {},
     "output_type": "execute_result"
    }
   ],
   "source": [
    "data['url'].str.count('\\\\=').value_counts()"
   ]
  },
  {
   "cell_type": "code",
   "execution_count": 27,
   "metadata": {},
   "outputs": [
    {
     "ename": "KeyError",
     "evalue": "'domain_vocales'",
     "output_type": "error",
     "traceback": [
      "\u001b[1;31m---------------------------------------------------------------------------\u001b[0m",
      "\u001b[1;31mKeyError\u001b[0m                                  Traceback (most recent call last)",
      "\u001b[1;32mc:\\users\\kiri\\appdata\\local\\programs\\python\\python39\\lib\\site-packages\\pandas\\core\\indexes\\base.py\u001b[0m in \u001b[0;36mget_loc\u001b[1;34m(self, key, method, tolerance)\u001b[0m\n\u001b[0;32m   3360\u001b[0m             \u001b[1;32mtry\u001b[0m\u001b[1;33m:\u001b[0m\u001b[1;33m\u001b[0m\u001b[1;33m\u001b[0m\u001b[0m\n\u001b[1;32m-> 3361\u001b[1;33m                 \u001b[1;32mreturn\u001b[0m \u001b[0mself\u001b[0m\u001b[1;33m.\u001b[0m\u001b[0m_engine\u001b[0m\u001b[1;33m.\u001b[0m\u001b[0mget_loc\u001b[0m\u001b[1;33m(\u001b[0m\u001b[0mcasted_key\u001b[0m\u001b[1;33m)\u001b[0m\u001b[1;33m\u001b[0m\u001b[1;33m\u001b[0m\u001b[0m\n\u001b[0m\u001b[0;32m   3362\u001b[0m             \u001b[1;32mexcept\u001b[0m \u001b[0mKeyError\u001b[0m \u001b[1;32mas\u001b[0m \u001b[0merr\u001b[0m\u001b[1;33m:\u001b[0m\u001b[1;33m\u001b[0m\u001b[1;33m\u001b[0m\u001b[0m\n",
      "\u001b[1;32mc:\\users\\kiri\\appdata\\local\\programs\\python\\python39\\lib\\site-packages\\pandas\\_libs\\index.pyx\u001b[0m in \u001b[0;36mpandas._libs.index.IndexEngine.get_loc\u001b[1;34m()\u001b[0m\n",
      "\u001b[1;32mc:\\users\\kiri\\appdata\\local\\programs\\python\\python39\\lib\\site-packages\\pandas\\_libs\\index.pyx\u001b[0m in \u001b[0;36mpandas._libs.index.IndexEngine.get_loc\u001b[1;34m()\u001b[0m\n",
      "\u001b[1;32mpandas\\_libs\\hashtable_class_helper.pxi\u001b[0m in \u001b[0;36mpandas._libs.hashtable.PyObjectHashTable.get_item\u001b[1;34m()\u001b[0m\n",
      "\u001b[1;32mpandas\\_libs\\hashtable_class_helper.pxi\u001b[0m in \u001b[0;36mpandas._libs.hashtable.PyObjectHashTable.get_item\u001b[1;34m()\u001b[0m\n",
      "\u001b[1;31mKeyError\u001b[0m: 'domain_vocales'",
      "\nThe above exception was the direct cause of the following exception:\n",
      "\u001b[1;31mKeyError\u001b[0m                                  Traceback (most recent call last)",
      "\u001b[1;32m~\\AppData\\Local\\Temp/ipykernel_15116/4126504407.py\u001b[0m in \u001b[0;36m<module>\u001b[1;34m\u001b[0m\n\u001b[0;32m      8\u001b[0m \u001b[0mdata\u001b[0m\u001b[1;33m[\u001b[0m\u001b[1;34m'domain_subdomain'\u001b[0m\u001b[1;33m]\u001b[0m\u001b[1;33m.\u001b[0m\u001b[0mstr\u001b[0m\u001b[1;33m.\u001b[0m\u001b[0mlower\u001b[0m\u001b[1;33m(\u001b[0m\u001b[1;33m)\u001b[0m\u001b[1;33m.\u001b[0m\u001b[0mstr\u001b[0m\u001b[1;33m.\u001b[0m\u001b[0mcount\u001b[0m\u001b[1;33m(\u001b[0m\u001b[1;34mr'[aeiou]'\u001b[0m\u001b[1;33m)\u001b[0m\u001b[1;33m\u001b[0m\u001b[1;33m\u001b[0m\u001b[0m\n\u001b[0;32m      9\u001b[0m \u001b[1;31m# Cuenta consonantes\u001b[0m\u001b[1;33m\u001b[0m\u001b[1;33m\u001b[0m\u001b[1;33m\u001b[0m\u001b[0m\n\u001b[1;32m---> 10\u001b[1;33m \u001b[0mdata\u001b[0m\u001b[1;33m[\u001b[0m\u001b[1;34m'domain_subdomain'\u001b[0m\u001b[1;33m]\u001b[0m\u001b[1;33m.\u001b[0m\u001b[0mstr\u001b[0m\u001b[1;33m.\u001b[0m\u001b[0mlower\u001b[0m\u001b[1;33m(\u001b[0m\u001b[1;33m)\u001b[0m\u001b[1;33m.\u001b[0m\u001b[0mstr\u001b[0m\u001b[1;33m.\u001b[0m\u001b[0mcount\u001b[0m\u001b[1;33m(\u001b[0m\u001b[1;34mr'[a-z]'\u001b[0m\u001b[1;33m)\u001b[0m \u001b[1;33m-\u001b[0m \u001b[0mdata\u001b[0m\u001b[1;33m[\u001b[0m\u001b[1;34m'domain_vocales'\u001b[0m\u001b[1;33m]\u001b[0m\u001b[1;33m\u001b[0m\u001b[1;33m\u001b[0m\u001b[0m\n\u001b[0m\u001b[0;32m     11\u001b[0m \u001b[1;31m# Cuenta números\u001b[0m\u001b[1;33m\u001b[0m\u001b[1;33m\u001b[0m\u001b[1;33m\u001b[0m\u001b[0m\n\u001b[0;32m     12\u001b[0m \u001b[0mdata\u001b[0m\u001b[1;33m[\u001b[0m\u001b[1;34m'domain_subdomain'\u001b[0m\u001b[1;33m]\u001b[0m\u001b[1;33m.\u001b[0m\u001b[0mstr\u001b[0m\u001b[1;33m.\u001b[0m\u001b[0mcount\u001b[0m\u001b[1;33m(\u001b[0m\u001b[1;34m'\\d'\u001b[0m\u001b[1;33m)\u001b[0m\u001b[1;33m\u001b[0m\u001b[1;33m\u001b[0m\u001b[0m\n",
      "\u001b[1;32mc:\\users\\kiri\\appdata\\local\\programs\\python\\python39\\lib\\site-packages\\pandas\\core\\frame.py\u001b[0m in \u001b[0;36m__getitem__\u001b[1;34m(self, key)\u001b[0m\n\u001b[0;32m   3453\u001b[0m             \u001b[1;32mif\u001b[0m \u001b[0mself\u001b[0m\u001b[1;33m.\u001b[0m\u001b[0mcolumns\u001b[0m\u001b[1;33m.\u001b[0m\u001b[0mnlevels\u001b[0m \u001b[1;33m>\u001b[0m \u001b[1;36m1\u001b[0m\u001b[1;33m:\u001b[0m\u001b[1;33m\u001b[0m\u001b[1;33m\u001b[0m\u001b[0m\n\u001b[0;32m   3454\u001b[0m                 \u001b[1;32mreturn\u001b[0m \u001b[0mself\u001b[0m\u001b[1;33m.\u001b[0m\u001b[0m_getitem_multilevel\u001b[0m\u001b[1;33m(\u001b[0m\u001b[0mkey\u001b[0m\u001b[1;33m)\u001b[0m\u001b[1;33m\u001b[0m\u001b[1;33m\u001b[0m\u001b[0m\n\u001b[1;32m-> 3455\u001b[1;33m             \u001b[0mindexer\u001b[0m \u001b[1;33m=\u001b[0m \u001b[0mself\u001b[0m\u001b[1;33m.\u001b[0m\u001b[0mcolumns\u001b[0m\u001b[1;33m.\u001b[0m\u001b[0mget_loc\u001b[0m\u001b[1;33m(\u001b[0m\u001b[0mkey\u001b[0m\u001b[1;33m)\u001b[0m\u001b[1;33m\u001b[0m\u001b[1;33m\u001b[0m\u001b[0m\n\u001b[0m\u001b[0;32m   3456\u001b[0m             \u001b[1;32mif\u001b[0m \u001b[0mis_integer\u001b[0m\u001b[1;33m(\u001b[0m\u001b[0mindexer\u001b[0m\u001b[1;33m)\u001b[0m\u001b[1;33m:\u001b[0m\u001b[1;33m\u001b[0m\u001b[1;33m\u001b[0m\u001b[0m\n\u001b[0;32m   3457\u001b[0m                 \u001b[0mindexer\u001b[0m \u001b[1;33m=\u001b[0m \u001b[1;33m[\u001b[0m\u001b[0mindexer\u001b[0m\u001b[1;33m]\u001b[0m\u001b[1;33m\u001b[0m\u001b[1;33m\u001b[0m\u001b[0m\n",
      "\u001b[1;32mc:\\users\\kiri\\appdata\\local\\programs\\python\\python39\\lib\\site-packages\\pandas\\core\\indexes\\base.py\u001b[0m in \u001b[0;36mget_loc\u001b[1;34m(self, key, method, tolerance)\u001b[0m\n\u001b[0;32m   3361\u001b[0m                 \u001b[1;32mreturn\u001b[0m \u001b[0mself\u001b[0m\u001b[1;33m.\u001b[0m\u001b[0m_engine\u001b[0m\u001b[1;33m.\u001b[0m\u001b[0mget_loc\u001b[0m\u001b[1;33m(\u001b[0m\u001b[0mcasted_key\u001b[0m\u001b[1;33m)\u001b[0m\u001b[1;33m\u001b[0m\u001b[1;33m\u001b[0m\u001b[0m\n\u001b[0;32m   3362\u001b[0m             \u001b[1;32mexcept\u001b[0m \u001b[0mKeyError\u001b[0m \u001b[1;32mas\u001b[0m \u001b[0merr\u001b[0m\u001b[1;33m:\u001b[0m\u001b[1;33m\u001b[0m\u001b[1;33m\u001b[0m\u001b[0m\n\u001b[1;32m-> 3363\u001b[1;33m                 \u001b[1;32mraise\u001b[0m \u001b[0mKeyError\u001b[0m\u001b[1;33m(\u001b[0m\u001b[0mkey\u001b[0m\u001b[1;33m)\u001b[0m \u001b[1;32mfrom\u001b[0m \u001b[0merr\u001b[0m\u001b[1;33m\u001b[0m\u001b[1;33m\u001b[0m\u001b[0m\n\u001b[0m\u001b[0;32m   3364\u001b[0m \u001b[1;33m\u001b[0m\u001b[0m\n\u001b[0;32m   3365\u001b[0m         \u001b[1;32mif\u001b[0m \u001b[0mis_scalar\u001b[0m\u001b[1;33m(\u001b[0m\u001b[0mkey\u001b[0m\u001b[1;33m)\u001b[0m \u001b[1;32mand\u001b[0m \u001b[0misna\u001b[0m\u001b[1;33m(\u001b[0m\u001b[0mkey\u001b[0m\u001b[1;33m)\u001b[0m \u001b[1;32mand\u001b[0m \u001b[1;32mnot\u001b[0m \u001b[0mself\u001b[0m\u001b[1;33m.\u001b[0m\u001b[0mhasnans\u001b[0m\u001b[1;33m:\u001b[0m\u001b[1;33m\u001b[0m\u001b[1;33m\u001b[0m\u001b[0m\n",
      "\u001b[1;31mKeyError\u001b[0m: 'domain_vocales'"
     ]
    }
   ],
   "source": [
    "# Variables del dominio\n",
    "# Cuenta los puntos\n",
    "data['domain_subdomain'].str.count('\\\\.')\n",
    "data['domain_subdomain'].str.count('\\\\-')\n",
    "# Cuenta el largo\n",
    "data['domain_subdomain'].str.len()\n",
    "# Cuenta vocales\n",
    "data['domain_subdomain'].str.lower().str.count(r'[aeiou]')\n",
    "# Cuenta consonantes\n",
    "data['domain_subdomain'].str.lower().str.count(r'[a-z]') - data['domain_vocales']\n",
    "# Cuenta números\n",
    "data['domain_subdomain'].str.count('\\d')"
   ]
  },
  {
   "cell_type": "code",
   "execution_count": null,
   "metadata": {
    "scrolled": true
   },
   "outputs": [],
   "source": [
    "data['domain_subdomain'].str.count('\\\\.').value_counts()"
   ]
  },
  {
   "cell_type": "code",
   "execution_count": null,
   "metadata": {},
   "outputs": [],
   "source": [
    "data.iloc[40:60]"
   ]
  },
  {
   "cell_type": "markdown",
   "metadata": {},
   "source": [
    "# Prueba Distancia de Strings"
   ]
  },
  {
   "cell_type": "code",
   "execution_count": null,
   "metadata": {},
   "outputs": [],
   "source": [
    "import jellyfish"
   ]
  },
  {
   "cell_type": "markdown",
   "metadata": {},
   "source": [
    "Link de la documentación de la libreria.\n",
    "\n",
    "https://jellyfish.readthedocs.io/en/latest/comparison.html\n",
    "\n",
    "Link de la explicación de Jaro Distance.\n",
    "\n",
    "https://en.wikipedia.org/wiki/Jaro%E2%80%93Winkler_distance\n"
   ]
  },
  {
   "cell_type": "code",
   "execution_count": null,
   "metadata": {},
   "outputs": [],
   "source": [
    "links_url = [\n",
    "                'amazon.com', \n",
    "                'amazon.co.safeamazonsecure.icu', \n",
    "                'aoinamozm.servebeer.com', \n",
    "                'breakevents.de', \n",
    "                'spectralwirejewelry.com', \n",
    "                'eim.ae.iwc.static.royalgatetransport.ae',\n",
    "                'www.amazonlogistics.eu',\n",
    "                'www.amazon.fr'\n",
    "            ]\n",
    "\n",
    "for link in links_url:\n",
    "    print(tldextract.extract(link))"
   ]
  },
  {
   "cell_type": "markdown",
   "metadata": {},
   "source": [
    "La mejor métrica de similitud entre strings parece ser la distancia Jaro - Winkler."
   ]
  },
  {
   "cell_type": "code",
   "execution_count": null,
   "metadata": {},
   "outputs": [],
   "source": [
    "for link in links_url:\n",
    "    print(f'Link: {link} - metric {jellyfish.jaro_distance(tldextract.extract(link).domain+tldextract.extract(link).subdomain, \"amazon\")}')"
   ]
  },
  {
   "cell_type": "code",
   "execution_count": null,
   "metadata": {},
   "outputs": [],
   "source": [
    "for link in links_url:\n",
    "    print(f'Link: {link} - metric {jellyfish.jaro_winkler(tldextract.extract(link).domain+tldextract.extract(link).subdomain, \"amazon\")}')"
   ]
  },
  {
   "cell_type": "code",
   "execution_count": null,
   "metadata": {},
   "outputs": [],
   "source": [
    "for link in links_url:\n",
    "    print(f'Link: {link} - metric {jellyfish.hamming_distance(link, \"amazon.com\")}')"
   ]
  },
  {
   "cell_type": "code",
   "execution_count": null,
   "metadata": {},
   "outputs": [],
   "source": [
    "for link in links_url:\n",
    "    print(f'Link: {link} - metric {jellyfish.levenshtein_distance(link, \"amazon.com\")}')"
   ]
  },
  {
   "cell_type": "code",
   "execution_count": null,
   "metadata": {},
   "outputs": [],
   "source": [
    "for link in links_url:\n",
    "    print(f'Link: {link} - metric {jellyfish.damerau_levenshtein_distance(link, \"amazon.com\")}')"
   ]
  },
  {
   "cell_type": "code",
   "execution_count": null,
   "metadata": {
    "scrolled": true
   },
   "outputs": [],
   "source": [
    "print(jellyfish.jaro_distance('amazon.com', 'amazon.com'))\n",
    "print(jellyfish.jaro_distance('amazon.co.safeamazonsecure.icu', 'amazon.com'))\n",
    "print(jellyfish.jaro_distance('aoinamozm.servebeer.com', 'amazon.com'))\n",
    "print(jellyfish.jaro_distance('breakevents.de', 'amazon.com'))\n",
    "print(jellyfish.jaro_distance('spectralwirejewelry.com', 'amazon.com'))\n",
    "print(jellyfish.jaro_distance('eim.ae.iwc.static.royalgatetransport.ae', 'amazon.com'))\n",
    "print(jellyfish.jaro_distance('amazon.co.jp', 'amazon.com'))\n",
    "print(jellyfish.jaro_distance('www.amazonlogistics.eu', 'amazon.com'))\n",
    "print(jellyfish.jaro_distance('www.amazon.fr', 'amazon.com'))"
   ]
  },
  {
   "cell_type": "code",
   "execution_count": null,
   "metadata": {},
   "outputs": [],
   "source": [
    "row = 40\n",
    "data.iloc[row:row+20]"
   ]
  },
  {
   "cell_type": "code",
   "execution_count": null,
   "metadata": {},
   "outputs": [],
   "source": [
    "data_top_urls.head(20)"
   ]
  },
  {
   "cell_type": "code",
   "execution_count": null,
   "metadata": {},
   "outputs": [],
   "source": [
    "data_top_urls['domain']"
   ]
  },
  {
   "cell_type": "code",
   "execution_count": null,
   "metadata": {},
   "outputs": [],
   "source": [
    "metric_domains = ['amazon', 'google', 'whatsapp', 'instagram', 'twitter', 'facebook', 'yahoo']\n",
    "\n",
    "for domain in metric_domains:\n",
    "    data['metric_'+domain] = data['domain_subdomain'].apply(lambda x: jellyfish.jaro_distance(x, domain))"
   ]
  },
  {
   "cell_type": "code",
   "execution_count": null,
   "metadata": {
    "scrolled": true
   },
   "outputs": [],
   "source": [
    "domain_check = 'whatsapp'\n",
    "row = 20\n",
    "data[['phishing', 'domain_subdomain', 'metric_'+domain_check, 'url']].sort_values('metric_'+domain_check, ascending = False).iloc[row:row+20]"
   ]
  },
  {
   "cell_type": "code",
   "execution_count": null,
   "metadata": {
    "scrolled": true
   },
   "outputs": [],
   "source": [
    "data[['phishing', 'domain_subdomain', 'metric_whatsapp']].sort_values('metric_whatsapp', ascending = False).iloc[0:20]"
   ]
  }
 ],
 "metadata": {
  "interpreter": {
   "hash": "1035c9f89031aae6b77741c225f5058c1a7f3b64d31e40a953affed9b532ab28"
  },
  "kernelspec": {
   "display_name": "Python 3 (ipykernel)",
   "language": "python",
   "name": "python3"
  },
  "language_info": {
   "codemirror_mode": {
    "name": "ipython",
    "version": 3
   },
   "file_extension": ".py",
   "mimetype": "text/x-python",
   "name": "python",
   "nbconvert_exporter": "python",
   "pygments_lexer": "ipython3",
   "version": "3.9.6"
  }
 },
 "nbformat": 4,
 "nbformat_minor": 2
}
